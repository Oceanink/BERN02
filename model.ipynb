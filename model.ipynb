{
 "cells": [
  {
   "cell_type": "code",
   "execution_count": 3,
   "metadata": {},
   "outputs": [
    {
     "name": "stdout",
     "output_type": "stream",
     "text": [
      "Overwriting requirements.txt\n"
     ]
    }
   ],
   "source": [
    "%%writefile requirements.txt\n",
    "numpy==1.26.4\n",
    "pandas==2.2.2\n",
    "scipy==1.13.0"
   ]
  },
  {
   "cell_type": "code",
   "execution_count": null,
   "metadata": {},
   "outputs": [],
   "source": [
    "%pip install -r requirements.txt"
   ]
  },
  {
   "cell_type": "code",
   "execution_count": 1,
   "metadata": {},
   "outputs": [],
   "source": [
    "import numpy as np\n",
    "import pandas as pd\n",
    "from scipy.optimize import minimize"
   ]
  },
  {
   "cell_type": "markdown",
   "metadata": {},
   "source": [
    "# Log Likelyhoood Fuction\n",
    "$logL(\\beta_0,\\beta_1;X,Y) = \\sum_{i=1}^n (y_i(\\beta_0 + \\beta_1 x_i) - e^{\\beta_0 + \\beta_1 x_i})$"
   ]
  },
  {
   "cell_type": "code",
   "execution_count": 2,
   "metadata": {},
   "outputs": [],
   "source": [
    "def likelyhood(beta, data):\n",
    "    X = data[0]\n",
    "    Y = data[1]\n",
    "    res = -np.sum(Y * (beta[0]+beta[1]*X) - np.exp(beta[0]+beta[1]*X))\n",
    "    return res"
   ]
  },
  {
   "cell_type": "markdown",
   "metadata": {},
   "source": [
    "# Load Data"
   ]
  },
  {
   "cell_type": "code",
   "execution_count": 3,
   "metadata": {},
   "outputs": [],
   "source": [
    "df = pd.read_csv('bird_count.csv')\n",
    "X = np.array(df['yr'])\n",
    "Y = np.array(df['count'])"
   ]
  },
  {
   "cell_type": "markdown",
   "metadata": {},
   "source": [
    "# Minimize the -logL"
   ]
  },
  {
   "cell_type": "code",
   "execution_count": 4,
   "metadata": {},
   "outputs": [
    {
     "data": {
      "text/plain": [
       "       message: Optimization terminated successfully.\n",
       "       success: True\n",
       "        status: 0\n",
       "           fun: -121.62602224466173\n",
       "             x: [ 6.718e+01 -3.244e-02]\n",
       "           nit: 99\n",
       "          nfev: 187\n",
       " final_simplex: (array([[ 6.718e+01, -3.244e-02],\n",
       "                       [ 6.718e+01, -3.244e-02],\n",
       "                       [ 6.718e+01, -3.244e-02]]), array([-1.216e+02, -1.216e+02, -1.216e+02]))"
      ]
     },
     "execution_count": 4,
     "metadata": {},
     "output_type": "execute_result"
    }
   ],
   "source": [
    "data = [X, Y]\n",
    "model = minimize(likelyhood, [50, -0.001], args=data,method='Nelder-Mead')\n",
    "model"
   ]
  },
  {
   "cell_type": "markdown",
   "metadata": {},
   "source": [
    "# Generate samples"
   ]
  },
  {
   "cell_type": "markdown",
   "metadata": {},
   "source": [
    "$\\lambda_i = e^{\\beta_0 + \\beta_1 x_i}$\n",
    "\n",
    "$y_{gen} \\sim Poi(\\lambda_i)$"
   ]
  },
  {
   "cell_type": "code",
   "execution_count": 5,
   "metadata": {},
   "outputs": [],
   "source": [
    "beta0 = model.x[0]\n",
    "beta1 = model.x[1]\n",
    "lamda = np.exp(beta0 + beta1 * X)\n",
    "samples = np.zeros((len(X),3))\n",
    "for i in range(3): # generate 3 samples across all years\n",
    "    samples[:,i] = np.random.poisson(lamda)"
   ]
  },
  {
   "cell_type": "code",
   "execution_count": 6,
   "metadata": {},
   "outputs": [],
   "source": [
    "df_new = pd.DataFrame(samples, columns=['sample1', 'sample2', 'sample3'])\n",
    "df_new['year'] = X\n",
    "df_new.to_csv('samples.csv', index=False)"
   ]
  },
  {
   "cell_type": "code",
   "execution_count": 8,
   "metadata": {},
   "outputs": [
    {
     "data": {
      "text/plain": [
       "array([[ 4.,  9.,  7.],\n",
       "       [12., 12.,  5.],\n",
       "       [11.,  8.,  6.],\n",
       "       [ 6.,  3., 10.],\n",
       "       [10.,  6.,  7.],\n",
       "       [ 5.,  7., 12.],\n",
       "       [10.,  6., 11.],\n",
       "       [12.,  8., 10.],\n",
       "       [13.,  8.,  9.],\n",
       "       [ 9.,  8., 14.],\n",
       "       [16.,  8.,  7.],\n",
       "       [12.,  8., 11.],\n",
       "       [ 5.,  8., 10.]])"
      ]
     },
     "execution_count": 8,
     "metadata": {},
     "output_type": "execute_result"
    }
   ],
   "source": [
    "samples"
   ]
  }
 ],
 "metadata": {
  "kernelspec": {
   "display_name": "py11",
   "language": "python",
   "name": "python3"
  },
  "language_info": {
   "codemirror_mode": {
    "name": "ipython",
    "version": 3
   },
   "file_extension": ".py",
   "mimetype": "text/x-python",
   "name": "python",
   "nbconvert_exporter": "python",
   "pygments_lexer": "ipython3",
   "version": "3.11.9"
  }
 },
 "nbformat": 4,
 "nbformat_minor": 2
}
